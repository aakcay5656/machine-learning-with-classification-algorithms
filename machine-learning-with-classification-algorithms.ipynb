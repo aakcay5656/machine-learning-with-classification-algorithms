{
 "cells": [
  {
   "cell_type": "markdown",
   "id": "39fac110",
   "metadata": {
    "papermill": {
     "duration": 0.011623,
     "end_time": "2023-10-27T09:25:14.927363",
     "exception": false,
     "start_time": "2023-10-27T09:25:14.915740",
     "status": "completed"
    },
    "tags": []
   },
   "source": [
    "# INTRODUCTION\n",
    "\n",
    "\n",
    "<br>Content:\n",
    "1. [İmport Data](#1)\n",
    "1. [Normalization](#2)\n",
    "1. [Logistic Regression Classification](#3)\n",
    "1. [K-Nearest Neighbors Classification](#4)\n",
    "1. [Naive Bayes Classification](#5)\n",
    "1. [Random Forrest Classification](#6)\n",
    "1. [Support Vector Machines Classification](#7)\n",
    "1. [Decision Tree Classification](#8)\n",
    "\n"
   ]
  },
  {
   "cell_type": "code",
   "execution_count": 1,
   "id": "31026c82",
   "metadata": {
    "_cell_guid": "b1076dfc-b9ad-4769-8c92-a6c4dae69d19",
    "_uuid": "8f2839f25d086af736a60e9eeb907d3b93b6e0e5",
    "execution": {
     "iopub.execute_input": "2023-10-27T09:25:14.952006Z",
     "iopub.status.busy": "2023-10-27T09:25:14.951293Z",
     "iopub.status.idle": "2023-10-27T09:25:14.962422Z",
     "shell.execute_reply": "2023-10-27T09:25:14.961476Z"
    },
    "papermill": {
     "duration": 0.025082,
     "end_time": "2023-10-27T09:25:14.964717",
     "exception": false,
     "start_time": "2023-10-27T09:25:14.939635",
     "status": "completed"
    },
    "tags": []
   },
   "outputs": [],
   "source": [
    "import pandas as pd\n",
    "import numpy as np\n",
    "import matplotlib.pyplot as plt"
   ]
  },
  {
   "cell_type": "markdown",
   "id": "23d1e72f",
   "metadata": {
    "papermill": {
     "duration": 0.010897,
     "end_time": "2023-10-27T09:25:14.986627",
     "exception": false,
     "start_time": "2023-10-27T09:25:14.975730",
     "status": "completed"
    },
    "tags": []
   },
   "source": [
    "# İmport Data\n",
    "<a id=\"1\"></a>"
   ]
  },
  {
   "cell_type": "code",
   "execution_count": 2,
   "id": "ff1332c7",
   "metadata": {
    "execution": {
     "iopub.execute_input": "2023-10-27T09:25:15.010033Z",
     "iopub.status.busy": "2023-10-27T09:25:15.009579Z",
     "iopub.status.idle": "2023-10-27T09:25:15.040434Z",
     "shell.execute_reply": "2023-10-27T09:25:15.039122Z"
    },
    "papermill": {
     "duration": 0.045192,
     "end_time": "2023-10-27T09:25:15.043076",
     "exception": false,
     "start_time": "2023-10-27T09:25:14.997884",
     "status": "completed"
    },
    "tags": []
   },
   "outputs": [],
   "source": [
    "data=pd.read_csv(\"/kaggle/input/biomechanical-features-of-orthopedic-patients/column_2C_weka.csv\")"
   ]
  },
  {
   "cell_type": "code",
   "execution_count": 3,
   "id": "3e161429",
   "metadata": {
    "execution": {
     "iopub.execute_input": "2023-10-27T09:25:15.067631Z",
     "iopub.status.busy": "2023-10-27T09:25:15.067213Z",
     "iopub.status.idle": "2023-10-27T09:25:15.091667Z",
     "shell.execute_reply": "2023-10-27T09:25:15.090849Z"
    },
    "papermill": {
     "duration": 0.039031,
     "end_time": "2023-10-27T09:25:15.094457",
     "exception": false,
     "start_time": "2023-10-27T09:25:15.055426",
     "status": "completed"
    },
    "tags": []
   },
   "outputs": [
    {
     "data": {
      "text/html": [
       "<div>\n",
       "<style scoped>\n",
       "    .dataframe tbody tr th:only-of-type {\n",
       "        vertical-align: middle;\n",
       "    }\n",
       "\n",
       "    .dataframe tbody tr th {\n",
       "        vertical-align: top;\n",
       "    }\n",
       "\n",
       "    .dataframe thead th {\n",
       "        text-align: right;\n",
       "    }\n",
       "</style>\n",
       "<table border=\"1\" class=\"dataframe\">\n",
       "  <thead>\n",
       "    <tr style=\"text-align: right;\">\n",
       "      <th></th>\n",
       "      <th>pelvic_incidence</th>\n",
       "      <th>pelvic_tilt numeric</th>\n",
       "      <th>lumbar_lordosis_angle</th>\n",
       "      <th>sacral_slope</th>\n",
       "      <th>pelvic_radius</th>\n",
       "      <th>degree_spondylolisthesis</th>\n",
       "      <th>class</th>\n",
       "    </tr>\n",
       "  </thead>\n",
       "  <tbody>\n",
       "    <tr>\n",
       "      <th>0</th>\n",
       "      <td>63.027817</td>\n",
       "      <td>22.552586</td>\n",
       "      <td>39.609117</td>\n",
       "      <td>40.475232</td>\n",
       "      <td>98.672917</td>\n",
       "      <td>-0.254400</td>\n",
       "      <td>Abnormal</td>\n",
       "    </tr>\n",
       "    <tr>\n",
       "      <th>1</th>\n",
       "      <td>39.056951</td>\n",
       "      <td>10.060991</td>\n",
       "      <td>25.015378</td>\n",
       "      <td>28.995960</td>\n",
       "      <td>114.405425</td>\n",
       "      <td>4.564259</td>\n",
       "      <td>Abnormal</td>\n",
       "    </tr>\n",
       "    <tr>\n",
       "      <th>2</th>\n",
       "      <td>68.832021</td>\n",
       "      <td>22.218482</td>\n",
       "      <td>50.092194</td>\n",
       "      <td>46.613539</td>\n",
       "      <td>105.985135</td>\n",
       "      <td>-3.530317</td>\n",
       "      <td>Abnormal</td>\n",
       "    </tr>\n",
       "    <tr>\n",
       "      <th>3</th>\n",
       "      <td>69.297008</td>\n",
       "      <td>24.652878</td>\n",
       "      <td>44.311238</td>\n",
       "      <td>44.644130</td>\n",
       "      <td>101.868495</td>\n",
       "      <td>11.211523</td>\n",
       "      <td>Abnormal</td>\n",
       "    </tr>\n",
       "    <tr>\n",
       "      <th>4</th>\n",
       "      <td>49.712859</td>\n",
       "      <td>9.652075</td>\n",
       "      <td>28.317406</td>\n",
       "      <td>40.060784</td>\n",
       "      <td>108.168725</td>\n",
       "      <td>7.918501</td>\n",
       "      <td>Abnormal</td>\n",
       "    </tr>\n",
       "  </tbody>\n",
       "</table>\n",
       "</div>"
      ],
      "text/plain": [
       "   pelvic_incidence  pelvic_tilt numeric  lumbar_lordosis_angle  sacral_slope  \\\n",
       "0         63.027817            22.552586              39.609117     40.475232   \n",
       "1         39.056951            10.060991              25.015378     28.995960   \n",
       "2         68.832021            22.218482              50.092194     46.613539   \n",
       "3         69.297008            24.652878              44.311238     44.644130   \n",
       "4         49.712859             9.652075              28.317406     40.060784   \n",
       "\n",
       "   pelvic_radius  degree_spondylolisthesis     class  \n",
       "0      98.672917                 -0.254400  Abnormal  \n",
       "1     114.405425                  4.564259  Abnormal  \n",
       "2     105.985135                 -3.530317  Abnormal  \n",
       "3     101.868495                 11.211523  Abnormal  \n",
       "4     108.168725                  7.918501  Abnormal  "
      ]
     },
     "execution_count": 3,
     "metadata": {},
     "output_type": "execute_result"
    }
   ],
   "source": [
    "data.head()"
   ]
  },
  {
   "cell_type": "code",
   "execution_count": 4,
   "id": "8ad648cf",
   "metadata": {
    "execution": {
     "iopub.execute_input": "2023-10-27T09:25:15.118175Z",
     "iopub.status.busy": "2023-10-27T09:25:15.117400Z",
     "iopub.status.idle": "2023-10-27T09:25:15.122732Z",
     "shell.execute_reply": "2023-10-27T09:25:15.121961Z"
    },
    "papermill": {
     "duration": 0.019755,
     "end_time": "2023-10-27T09:25:15.125044",
     "exception": false,
     "start_time": "2023-10-27T09:25:15.105289",
     "status": "completed"
    },
    "tags": []
   },
   "outputs": [],
   "source": [
    "data[\"class\"]=[1 if each ==\"Abnormal\" else 0 for each in data[\"class\"] ]"
   ]
  },
  {
   "cell_type": "code",
   "execution_count": 5,
   "id": "9a8c9506",
   "metadata": {
    "execution": {
     "iopub.execute_input": "2023-10-27T09:25:15.149933Z",
     "iopub.status.busy": "2023-10-27T09:25:15.149252Z",
     "iopub.status.idle": "2023-10-27T09:25:15.163170Z",
     "shell.execute_reply": "2023-10-27T09:25:15.161917Z"
    },
    "papermill": {
     "duration": 0.029389,
     "end_time": "2023-10-27T09:25:15.165795",
     "exception": false,
     "start_time": "2023-10-27T09:25:15.136406",
     "status": "completed"
    },
    "tags": []
   },
   "outputs": [
    {
     "data": {
      "text/html": [
       "<div>\n",
       "<style scoped>\n",
       "    .dataframe tbody tr th:only-of-type {\n",
       "        vertical-align: middle;\n",
       "    }\n",
       "\n",
       "    .dataframe tbody tr th {\n",
       "        vertical-align: top;\n",
       "    }\n",
       "\n",
       "    .dataframe thead th {\n",
       "        text-align: right;\n",
       "    }\n",
       "</style>\n",
       "<table border=\"1\" class=\"dataframe\">\n",
       "  <thead>\n",
       "    <tr style=\"text-align: right;\">\n",
       "      <th></th>\n",
       "      <th>pelvic_incidence</th>\n",
       "      <th>pelvic_tilt numeric</th>\n",
       "      <th>lumbar_lordosis_angle</th>\n",
       "      <th>sacral_slope</th>\n",
       "      <th>pelvic_radius</th>\n",
       "      <th>degree_spondylolisthesis</th>\n",
       "      <th>class</th>\n",
       "    </tr>\n",
       "  </thead>\n",
       "  <tbody>\n",
       "    <tr>\n",
       "      <th>0</th>\n",
       "      <td>63.027817</td>\n",
       "      <td>22.552586</td>\n",
       "      <td>39.609117</td>\n",
       "      <td>40.475232</td>\n",
       "      <td>98.672917</td>\n",
       "      <td>-0.254400</td>\n",
       "      <td>1</td>\n",
       "    </tr>\n",
       "    <tr>\n",
       "      <th>1</th>\n",
       "      <td>39.056951</td>\n",
       "      <td>10.060991</td>\n",
       "      <td>25.015378</td>\n",
       "      <td>28.995960</td>\n",
       "      <td>114.405425</td>\n",
       "      <td>4.564259</td>\n",
       "      <td>1</td>\n",
       "    </tr>\n",
       "    <tr>\n",
       "      <th>2</th>\n",
       "      <td>68.832021</td>\n",
       "      <td>22.218482</td>\n",
       "      <td>50.092194</td>\n",
       "      <td>46.613539</td>\n",
       "      <td>105.985135</td>\n",
       "      <td>-3.530317</td>\n",
       "      <td>1</td>\n",
       "    </tr>\n",
       "    <tr>\n",
       "      <th>3</th>\n",
       "      <td>69.297008</td>\n",
       "      <td>24.652878</td>\n",
       "      <td>44.311238</td>\n",
       "      <td>44.644130</td>\n",
       "      <td>101.868495</td>\n",
       "      <td>11.211523</td>\n",
       "      <td>1</td>\n",
       "    </tr>\n",
       "    <tr>\n",
       "      <th>4</th>\n",
       "      <td>49.712859</td>\n",
       "      <td>9.652075</td>\n",
       "      <td>28.317406</td>\n",
       "      <td>40.060784</td>\n",
       "      <td>108.168725</td>\n",
       "      <td>7.918501</td>\n",
       "      <td>1</td>\n",
       "    </tr>\n",
       "  </tbody>\n",
       "</table>\n",
       "</div>"
      ],
      "text/plain": [
       "   pelvic_incidence  pelvic_tilt numeric  lumbar_lordosis_angle  sacral_slope  \\\n",
       "0         63.027817            22.552586              39.609117     40.475232   \n",
       "1         39.056951            10.060991              25.015378     28.995960   \n",
       "2         68.832021            22.218482              50.092194     46.613539   \n",
       "3         69.297008            24.652878              44.311238     44.644130   \n",
       "4         49.712859             9.652075              28.317406     40.060784   \n",
       "\n",
       "   pelvic_radius  degree_spondylolisthesis  class  \n",
       "0      98.672917                 -0.254400      1  \n",
       "1     114.405425                  4.564259      1  \n",
       "2     105.985135                 -3.530317      1  \n",
       "3     101.868495                 11.211523      1  \n",
       "4     108.168725                  7.918501      1  "
      ]
     },
     "execution_count": 5,
     "metadata": {},
     "output_type": "execute_result"
    }
   ],
   "source": [
    "data.head()"
   ]
  },
  {
   "cell_type": "code",
   "execution_count": 6,
   "id": "3bfa9c83",
   "metadata": {
    "execution": {
     "iopub.execute_input": "2023-10-27T09:25:15.191085Z",
     "iopub.status.busy": "2023-10-27T09:25:15.190662Z",
     "iopub.status.idle": "2023-10-27T09:25:15.210508Z",
     "shell.execute_reply": "2023-10-27T09:25:15.209607Z"
    },
    "papermill": {
     "duration": 0.035114,
     "end_time": "2023-10-27T09:25:15.212765",
     "exception": false,
     "start_time": "2023-10-27T09:25:15.177651",
     "status": "completed"
    },
    "tags": []
   },
   "outputs": [
    {
     "data": {
      "text/html": [
       "<div>\n",
       "<style scoped>\n",
       "    .dataframe tbody tr th:only-of-type {\n",
       "        vertical-align: middle;\n",
       "    }\n",
       "\n",
       "    .dataframe tbody tr th {\n",
       "        vertical-align: top;\n",
       "    }\n",
       "\n",
       "    .dataframe thead th {\n",
       "        text-align: right;\n",
       "    }\n",
       "</style>\n",
       "<table border=\"1\" class=\"dataframe\">\n",
       "  <thead>\n",
       "    <tr style=\"text-align: right;\">\n",
       "      <th></th>\n",
       "      <th>pelvic_incidence</th>\n",
       "      <th>pelvic_tilt numeric</th>\n",
       "      <th>lumbar_lordosis_angle</th>\n",
       "      <th>sacral_slope</th>\n",
       "      <th>pelvic_radius</th>\n",
       "      <th>degree_spondylolisthesis</th>\n",
       "    </tr>\n",
       "  </thead>\n",
       "  <tbody>\n",
       "    <tr>\n",
       "      <th>0</th>\n",
       "      <td>63.027817</td>\n",
       "      <td>22.552586</td>\n",
       "      <td>39.609117</td>\n",
       "      <td>40.475232</td>\n",
       "      <td>98.672917</td>\n",
       "      <td>-0.254400</td>\n",
       "    </tr>\n",
       "    <tr>\n",
       "      <th>1</th>\n",
       "      <td>39.056951</td>\n",
       "      <td>10.060991</td>\n",
       "      <td>25.015378</td>\n",
       "      <td>28.995960</td>\n",
       "      <td>114.405425</td>\n",
       "      <td>4.564259</td>\n",
       "    </tr>\n",
       "    <tr>\n",
       "      <th>2</th>\n",
       "      <td>68.832021</td>\n",
       "      <td>22.218482</td>\n",
       "      <td>50.092194</td>\n",
       "      <td>46.613539</td>\n",
       "      <td>105.985135</td>\n",
       "      <td>-3.530317</td>\n",
       "    </tr>\n",
       "    <tr>\n",
       "      <th>3</th>\n",
       "      <td>69.297008</td>\n",
       "      <td>24.652878</td>\n",
       "      <td>44.311238</td>\n",
       "      <td>44.644130</td>\n",
       "      <td>101.868495</td>\n",
       "      <td>11.211523</td>\n",
       "    </tr>\n",
       "    <tr>\n",
       "      <th>4</th>\n",
       "      <td>49.712859</td>\n",
       "      <td>9.652075</td>\n",
       "      <td>28.317406</td>\n",
       "      <td>40.060784</td>\n",
       "      <td>108.168725</td>\n",
       "      <td>7.918501</td>\n",
       "    </tr>\n",
       "  </tbody>\n",
       "</table>\n",
       "</div>"
      ],
      "text/plain": [
       "   pelvic_incidence  pelvic_tilt numeric  lumbar_lordosis_angle  sacral_slope  \\\n",
       "0         63.027817            22.552586              39.609117     40.475232   \n",
       "1         39.056951            10.060991              25.015378     28.995960   \n",
       "2         68.832021            22.218482              50.092194     46.613539   \n",
       "3         69.297008            24.652878              44.311238     44.644130   \n",
       "4         49.712859             9.652075              28.317406     40.060784   \n",
       "\n",
       "   pelvic_radius  degree_spondylolisthesis  \n",
       "0      98.672917                 -0.254400  \n",
       "1     114.405425                  4.564259  \n",
       "2     105.985135                 -3.530317  \n",
       "3     101.868495                 11.211523  \n",
       "4     108.168725                  7.918501  "
      ]
     },
     "execution_count": 6,
     "metadata": {},
     "output_type": "execute_result"
    }
   ],
   "source": [
    "y=data[\"class\"].values\n",
    "x_data= data.drop([\"class\"],axis=1)\n",
    "x_data.head()\n",
    "\n"
   ]
  },
  {
   "cell_type": "markdown",
   "id": "a0e21e6f",
   "metadata": {
    "papermill": {
     "duration": 0.011082,
     "end_time": "2023-10-27T09:25:15.235366",
     "exception": false,
     "start_time": "2023-10-27T09:25:15.224284",
     "status": "completed"
    },
    "tags": []
   },
   "source": [
    "# Normalization\n",
    "\n",
    "<a id=\"2\"></a>"
   ]
  },
  {
   "cell_type": "code",
   "execution_count": 7,
   "id": "06d75890",
   "metadata": {
    "execution": {
     "iopub.execute_input": "2023-10-27T09:25:15.261018Z",
     "iopub.status.busy": "2023-10-27T09:25:15.259916Z",
     "iopub.status.idle": "2023-10-27T09:25:15.275610Z",
     "shell.execute_reply": "2023-10-27T09:25:15.274185Z"
    },
    "papermill": {
     "duration": 0.031445,
     "end_time": "2023-10-27T09:25:15.278453",
     "exception": false,
     "start_time": "2023-10-27T09:25:15.247008",
     "status": "completed"
    },
    "tags": []
   },
   "outputs": [
    {
     "name": "stderr",
     "output_type": "stream",
     "text": [
      "/opt/conda/lib/python3.10/site-packages/numpy/core/fromnumeric.py:84: FutureWarning: In a future version, DataFrame.min(axis=None) will return a scalar min over the entire DataFrame. To retain the old behavior, use 'frame.min(axis=0)' or just 'frame.min()'\n",
      "  return reduction(axis=axis, out=out, **passkwargs)\n",
      "/opt/conda/lib/python3.10/site-packages/numpy/core/fromnumeric.py:84: FutureWarning: In a future version, DataFrame.max(axis=None) will return a scalar max over the entire DataFrame. To retain the old behavior, use 'frame.max(axis=0)' or just 'frame.max()'\n",
      "  return reduction(axis=axis, out=out, **passkwargs)\n",
      "/opt/conda/lib/python3.10/site-packages/numpy/core/fromnumeric.py:84: FutureWarning: In a future version, DataFrame.min(axis=None) will return a scalar min over the entire DataFrame. To retain the old behavior, use 'frame.min(axis=0)' or just 'frame.min()'\n",
      "  return reduction(axis=axis, out=out, **passkwargs)\n"
     ]
    }
   ],
   "source": [
    "x=(x_data - np.min(x_data))/(np.max(x_data)- np.min(x_data))"
   ]
  },
  {
   "cell_type": "code",
   "execution_count": 8,
   "id": "05e2c11b",
   "metadata": {
    "execution": {
     "iopub.execute_input": "2023-10-27T09:25:15.303329Z",
     "iopub.status.busy": "2023-10-27T09:25:15.302897Z",
     "iopub.status.idle": "2023-10-27T09:25:15.316964Z",
     "shell.execute_reply": "2023-10-27T09:25:15.316114Z"
    },
    "papermill": {
     "duration": 0.029325,
     "end_time": "2023-10-27T09:25:15.319349",
     "exception": false,
     "start_time": "2023-10-27T09:25:15.290024",
     "status": "completed"
    },
    "tags": []
   },
   "outputs": [
    {
     "data": {
      "text/html": [
       "<div>\n",
       "<style scoped>\n",
       "    .dataframe tbody tr th:only-of-type {\n",
       "        vertical-align: middle;\n",
       "    }\n",
       "\n",
       "    .dataframe tbody tr th {\n",
       "        vertical-align: top;\n",
       "    }\n",
       "\n",
       "    .dataframe thead th {\n",
       "        text-align: right;\n",
       "    }\n",
       "</style>\n",
       "<table border=\"1\" class=\"dataframe\">\n",
       "  <thead>\n",
       "    <tr style=\"text-align: right;\">\n",
       "      <th></th>\n",
       "      <th>pelvic_incidence</th>\n",
       "      <th>pelvic_tilt numeric</th>\n",
       "      <th>lumbar_lordosis_angle</th>\n",
       "      <th>sacral_slope</th>\n",
       "      <th>pelvic_radius</th>\n",
       "      <th>degree_spondylolisthesis</th>\n",
       "    </tr>\n",
       "  </thead>\n",
       "  <tbody>\n",
       "    <tr>\n",
       "      <th>0</th>\n",
       "      <td>0.355688</td>\n",
       "      <td>0.519900</td>\n",
       "      <td>0.229180</td>\n",
       "      <td>0.250857</td>\n",
       "      <td>0.307461</td>\n",
       "      <td>0.025148</td>\n",
       "    </tr>\n",
       "    <tr>\n",
       "      <th>1</th>\n",
       "      <td>0.124501</td>\n",
       "      <td>0.296783</td>\n",
       "      <td>0.098578</td>\n",
       "      <td>0.144629</td>\n",
       "      <td>0.476649</td>\n",
       "      <td>0.036365</td>\n",
       "    </tr>\n",
       "    <tr>\n",
       "      <th>2</th>\n",
       "      <td>0.411666</td>\n",
       "      <td>0.513932</td>\n",
       "      <td>0.322995</td>\n",
       "      <td>0.307661</td>\n",
       "      <td>0.386097</td>\n",
       "      <td>0.017523</td>\n",
       "    </tr>\n",
       "    <tr>\n",
       "      <th>3</th>\n",
       "      <td>0.416151</td>\n",
       "      <td>0.557414</td>\n",
       "      <td>0.271260</td>\n",
       "      <td>0.289436</td>\n",
       "      <td>0.341826</td>\n",
       "      <td>0.051838</td>\n",
       "    </tr>\n",
       "    <tr>\n",
       "      <th>4</th>\n",
       "      <td>0.227272</td>\n",
       "      <td>0.289479</td>\n",
       "      <td>0.128129</td>\n",
       "      <td>0.247022</td>\n",
       "      <td>0.409579</td>\n",
       "      <td>0.044173</td>\n",
       "    </tr>\n",
       "  </tbody>\n",
       "</table>\n",
       "</div>"
      ],
      "text/plain": [
       "   pelvic_incidence  pelvic_tilt numeric  lumbar_lordosis_angle  sacral_slope  \\\n",
       "0          0.355688             0.519900               0.229180      0.250857   \n",
       "1          0.124501             0.296783               0.098578      0.144629   \n",
       "2          0.411666             0.513932               0.322995      0.307661   \n",
       "3          0.416151             0.557414               0.271260      0.289436   \n",
       "4          0.227272             0.289479               0.128129      0.247022   \n",
       "\n",
       "   pelvic_radius  degree_spondylolisthesis  \n",
       "0       0.307461                  0.025148  \n",
       "1       0.476649                  0.036365  \n",
       "2       0.386097                  0.017523  \n",
       "3       0.341826                  0.051838  \n",
       "4       0.409579                  0.044173  "
      ]
     },
     "execution_count": 8,
     "metadata": {},
     "output_type": "execute_result"
    }
   ],
   "source": [
    "x.head()"
   ]
  },
  {
   "cell_type": "markdown",
   "id": "563abac5",
   "metadata": {
    "papermill": {
     "duration": 0.011313,
     "end_time": "2023-10-27T09:25:15.342071",
     "exception": false,
     "start_time": "2023-10-27T09:25:15.330758",
     "status": "completed"
    },
    "tags": []
   },
   "source": [
    "# Logistic Regression Classification\n",
    "<a id=\"3\"></a>"
   ]
  },
  {
   "cell_type": "code",
   "execution_count": 9,
   "id": "7a5708cd",
   "metadata": {
    "execution": {
     "iopub.execute_input": "2023-10-27T09:25:15.367240Z",
     "iopub.status.busy": "2023-10-27T09:25:15.366795Z",
     "iopub.status.idle": "2023-10-27T09:25:16.674649Z",
     "shell.execute_reply": "2023-10-27T09:25:16.673635Z"
    },
    "papermill": {
     "duration": 1.323422,
     "end_time": "2023-10-27T09:25:16.677250",
     "exception": false,
     "start_time": "2023-10-27T09:25:15.353828",
     "status": "completed"
    },
    "tags": []
   },
   "outputs": [
    {
     "name": "stderr",
     "output_type": "stream",
     "text": [
      "/opt/conda/lib/python3.10/site-packages/scipy/__init__.py:146: UserWarning: A NumPy version >=1.16.5 and <1.23.0 is required for this version of SciPy (detected version 1.23.5\n",
      "  warnings.warn(f\"A NumPy version >={np_minversion} and <{np_maxversion}\"\n"
     ]
    }
   ],
   "source": [
    "from sklearn.model_selection import train_test_split\n",
    "x_train, x_test, y_train, y_test = train_test_split(x,y,test_size = 0.2,random_state=42)\n",
    "x_train = x_train.T\n",
    "x_test = x_test.T\n",
    "y_train = y_train.T\n",
    "y_test = y_test.T"
   ]
  },
  {
   "cell_type": "code",
   "execution_count": 10,
   "id": "ad439a32",
   "metadata": {
    "execution": {
     "iopub.execute_input": "2023-10-27T09:25:16.702789Z",
     "iopub.status.busy": "2023-10-27T09:25:16.701848Z",
     "iopub.status.idle": "2023-10-27T09:25:16.826311Z",
     "shell.execute_reply": "2023-10-27T09:25:16.825177Z"
    },
    "papermill": {
     "duration": 0.140167,
     "end_time": "2023-10-27T09:25:16.829066",
     "exception": false,
     "start_time": "2023-10-27T09:25:16.688899",
     "status": "completed"
    },
    "tags": []
   },
   "outputs": [
    {
     "name": "stdout",
     "output_type": "stream",
     "text": [
      "test accury 77.41935483870968\n"
     ]
    }
   ],
   "source": [
    "from sklearn.linear_model import LogisticRegression\n",
    "\n",
    "lr=LogisticRegression()\n",
    "lr.fit(x_train.T, y_train.T)\n",
    "\n",
    "print(\"test accury {}\".format(lr.score(x_test.T, y_test.T)*100))"
   ]
  },
  {
   "cell_type": "markdown",
   "id": "cd41464d",
   "metadata": {
    "papermill": {
     "duration": 0.011441,
     "end_time": "2023-10-27T09:25:16.852216",
     "exception": false,
     "start_time": "2023-10-27T09:25:16.840775",
     "status": "completed"
    },
    "tags": []
   },
   "source": [
    "### test accury 77.42"
   ]
  },
  {
   "cell_type": "markdown",
   "id": "a6f578df",
   "metadata": {
    "papermill": {
     "duration": 0.011707,
     "end_time": "2023-10-27T09:25:16.875328",
     "exception": false,
     "start_time": "2023-10-27T09:25:16.863621",
     "status": "completed"
    },
    "tags": []
   },
   "source": [
    "# K-Nearest Neighbors Classification\n",
    "<a id=\"4\"></a>"
   ]
  },
  {
   "cell_type": "code",
   "execution_count": 11,
   "id": "2570ec90",
   "metadata": {
    "execution": {
     "iopub.execute_input": "2023-10-27T09:25:16.900664Z",
     "iopub.status.busy": "2023-10-27T09:25:16.900277Z",
     "iopub.status.idle": "2023-10-27T09:25:16.907189Z",
     "shell.execute_reply": "2023-10-27T09:25:16.906182Z"
    },
    "papermill": {
     "duration": 0.022343,
     "end_time": "2023-10-27T09:25:16.909638",
     "exception": false,
     "start_time": "2023-10-27T09:25:16.887295",
     "status": "completed"
    },
    "tags": []
   },
   "outputs": [],
   "source": [
    "from sklearn.model_selection import train_test_split\n",
    "\n",
    "x_train,x_test,y_train,y_test = train_test_split(x,y,test_size=0.3,random_state=1)"
   ]
  },
  {
   "cell_type": "code",
   "execution_count": 12,
   "id": "20a9f55a",
   "metadata": {
    "execution": {
     "iopub.execute_input": "2023-10-27T09:25:16.935799Z",
     "iopub.status.busy": "2023-10-27T09:25:16.935425Z",
     "iopub.status.idle": "2023-10-27T09:25:17.087752Z",
     "shell.execute_reply": "2023-10-27T09:25:17.086354Z"
    },
    "papermill": {
     "duration": 0.168445,
     "end_time": "2023-10-27T09:25:17.090319",
     "exception": false,
     "start_time": "2023-10-27T09:25:16.921874",
     "status": "completed"
    },
    "tags": []
   },
   "outputs": [
    {
     "name": "stdout",
     "output_type": "stream",
     "text": [
      "13 knn score: 78.49462365591397\n"
     ]
    }
   ],
   "source": [
    "from sklearn.neighbors import KNeighborsClassifier\n",
    "\n",
    "knn = KNeighborsClassifier(n_neighbors = 13)# n_neighbors = k\n",
    "\n",
    "knn.fit(x_train,y_train)\n",
    "\n",
    "prediction = knn.predict(x_test)\n",
    "\n",
    "\n",
    "print(\"{} knn score: {}\".format(\"13\",knn.score(x_test, y_test)*100))"
   ]
  },
  {
   "cell_type": "markdown",
   "id": "61e3c520",
   "metadata": {
    "papermill": {
     "duration": 0.011199,
     "end_time": "2023-10-27T09:25:17.113183",
     "exception": false,
     "start_time": "2023-10-27T09:25:17.101984",
     "status": "completed"
    },
    "tags": []
   },
   "source": [
    "###  accury: 78.50"
   ]
  },
  {
   "cell_type": "code",
   "execution_count": 13,
   "id": "2e782fb6",
   "metadata": {
    "execution": {
     "iopub.execute_input": "2023-10-27T09:25:17.139701Z",
     "iopub.status.busy": "2023-10-27T09:25:17.138565Z",
     "iopub.status.idle": "2023-10-27T09:25:17.530581Z",
     "shell.execute_reply": "2023-10-27T09:25:17.529349Z"
    },
    "papermill": {
     "duration": 0.408076,
     "end_time": "2023-10-27T09:25:17.532992",
     "exception": false,
     "start_time": "2023-10-27T09:25:17.124916",
     "status": "completed"
    },
    "tags": []
   },
   "outputs": [
    {
     "data": {
      "image/png": "[encoded data removed]",
      "text/plain": [
       "<Figure size 640x480 with 1 Axes>"
      ]
     },
     "metadata": {},
     "output_type": "display_data"
    }
   ],
   "source": [
    "score_list=[]\n",
    "\n",
    "for each in range(1,15):\n",
    "    knn2=KNeighborsClassifier(n_neighbors=each)\n",
    "    knn2.fit(x_train, y_train)\n",
    "    score_list.append(knn2.score(x_test,y_test))\n",
    "    \n",
    "plt.plot(range(1,15),score_list)\n",
    "plt.xlabel(\"K_values\")\n",
    "plt.ylabel(\"Accuracy\")\n",
    "plt.show()"
   ]
  },
  {
   "cell_type": "markdown",
   "id": "137a18f2",
   "metadata": {
    "papermill": {
     "duration": 0.011953,
     "end_time": "2023-10-27T09:25:17.557286",
     "exception": false,
     "start_time": "2023-10-27T09:25:17.545333",
     "status": "completed"
    },
    "tags": []
   },
   "source": [
    "### Best choice for knn its a thirteen "
   ]
  },
  {
   "cell_type": "markdown",
   "id": "ba94f93c",
   "metadata": {
    "papermill": {
     "duration": 0.011859,
     "end_time": "2023-10-27T09:25:17.581172",
     "exception": false,
     "start_time": "2023-10-27T09:25:17.569313",
     "status": "completed"
    },
    "tags": []
   },
   "source": [
    "# Naive Bayes Classification\n",
    "<a id=\"5\"></a>"
   ]
  },
  {
   "cell_type": "code",
   "execution_count": 14,
   "id": "1f901fdb",
   "metadata": {
    "execution": {
     "iopub.execute_input": "2023-10-27T09:25:17.606764Z",
     "iopub.status.busy": "2023-10-27T09:25:17.606333Z",
     "iopub.status.idle": "2023-10-27T09:25:17.613385Z",
     "shell.execute_reply": "2023-10-27T09:25:17.612456Z"
    },
    "papermill": {
     "duration": 0.022535,
     "end_time": "2023-10-27T09:25:17.615509",
     "exception": false,
     "start_time": "2023-10-27T09:25:17.592974",
     "status": "completed"
    },
    "tags": []
   },
   "outputs": [],
   "source": [
    "from sklearn.model_selection import train_test_split\n",
    "x_train, x_test, y_train, y_test = train_test_split(x,y,test_size = 0.3,random_state=1)"
   ]
  },
  {
   "cell_type": "code",
   "execution_count": 15,
   "id": "ae5226b0",
   "metadata": {
    "execution": {
     "iopub.execute_input": "2023-10-27T09:25:17.641857Z",
     "iopub.status.busy": "2023-10-27T09:25:17.641075Z",
     "iopub.status.idle": "2023-10-27T09:25:17.661627Z",
     "shell.execute_reply": "2023-10-27T09:25:17.660320Z"
    },
    "papermill": {
     "duration": 0.036703,
     "end_time": "2023-10-27T09:25:17.664288",
     "exception": false,
     "start_time": "2023-10-27T09:25:17.627585",
     "status": "completed"
    },
    "tags": []
   },
   "outputs": [
    {
     "name": "stdout",
     "output_type": "stream",
     "text": [
      " naive bayes Accuracy rate :  81.72043010752688\n"
     ]
    }
   ],
   "source": [
    "from sklearn.naive_bayes import GaussianNB\n",
    "nb = GaussianNB()\n",
    "nb.fit(x_train,y_train)\n",
    "\n",
    "print(\" naive bayes Accuracy rate : \",nb.score(x_test,y_test)*100)"
   ]
  },
  {
   "cell_type": "markdown",
   "id": "82bb8fe7",
   "metadata": {
    "papermill": {
     "duration": 0.011851,
     "end_time": "2023-10-27T09:25:17.688190",
     "exception": false,
     "start_time": "2023-10-27T09:25:17.676339",
     "status": "completed"
    },
    "tags": []
   },
   "source": [
    "###  naive bayes Accuracy rate :  81.72"
   ]
  },
  {
   "cell_type": "markdown",
   "id": "2fab62f8",
   "metadata": {
    "papermill": {
     "duration": 0.011815,
     "end_time": "2023-10-27T09:25:17.712323",
     "exception": false,
     "start_time": "2023-10-27T09:25:17.700508",
     "status": "completed"
    },
    "tags": []
   },
   "source": [
    "# Random Forrest Classification\n",
    "<a id=\"6\"></a>"
   ]
  },
  {
   "cell_type": "code",
   "execution_count": 16,
   "id": "bb2c8b39",
   "metadata": {
    "execution": {
     "iopub.execute_input": "2023-10-27T09:25:17.739675Z",
     "iopub.status.busy": "2023-10-27T09:25:17.739264Z",
     "iopub.status.idle": "2023-10-27T09:25:17.746331Z",
     "shell.execute_reply": "2023-10-27T09:25:17.745147Z"
    },
    "papermill": {
     "duration": 0.02441,
     "end_time": "2023-10-27T09:25:17.748768",
     "exception": false,
     "start_time": "2023-10-27T09:25:17.724358",
     "status": "completed"
    },
    "tags": []
   },
   "outputs": [],
   "source": [
    "from sklearn.model_selection import train_test_split\n",
    "x_train, x_test,y_train, y_test = train_test_split(x,y,test_size = 0.15,random_state = 42)"
   ]
  },
  {
   "cell_type": "code",
   "execution_count": 17,
   "id": "8e42f155",
   "metadata": {
    "execution": {
     "iopub.execute_input": "2023-10-27T09:25:17.775701Z",
     "iopub.status.busy": "2023-10-27T09:25:17.775325Z",
     "iopub.status.idle": "2023-10-27T09:25:18.208183Z",
     "shell.execute_reply": "2023-10-27T09:25:18.206995Z"
    },
    "papermill": {
     "duration": 0.44943,
     "end_time": "2023-10-27T09:25:18.210809",
     "exception": false,
     "start_time": "2023-10-27T09:25:17.761379",
     "status": "completed"
    },
    "tags": []
   },
   "outputs": [
    {
     "name": "stdout",
     "output_type": "stream",
     "text": [
      "random forest algo result:  85.1063829787234\n"
     ]
    }
   ],
   "source": [
    "from sklearn.ensemble import RandomForestClassifier\n",
    "\n",
    "rf = RandomForestClassifier(n_estimators = 100,random_state = 1)\n",
    "rf.fit(x_train,y_train)\n",
    "print(\"random forest algo result: \",rf.score(x_test,y_test)*100)"
   ]
  },
  {
   "cell_type": "markdown",
   "id": "c16fda09",
   "metadata": {
    "papermill": {
     "duration": 0.01208,
     "end_time": "2023-10-27T09:25:18.235581",
     "exception": false,
     "start_time": "2023-10-27T09:25:18.223501",
     "status": "completed"
    },
    "tags": []
   },
   "source": [
    "### random forest algo result:  85.1"
   ]
  },
  {
   "cell_type": "markdown",
   "id": "3fb1d7ea",
   "metadata": {
    "papermill": {
     "duration": 0.01226,
     "end_time": "2023-10-27T09:25:18.260169",
     "exception": false,
     "start_time": "2023-10-27T09:25:18.247909",
     "status": "completed"
    },
    "tags": []
   },
   "source": [
    "# Support Vector Machines Classification\n",
    "<a id=\"7\"></a>"
   ]
  },
  {
   "cell_type": "code",
   "execution_count": 18,
   "id": "28921837",
   "metadata": {
    "execution": {
     "iopub.execute_input": "2023-10-27T09:25:18.288922Z",
     "iopub.status.busy": "2023-10-27T09:25:18.288317Z",
     "iopub.status.idle": "2023-10-27T09:25:18.294392Z",
     "shell.execute_reply": "2023-10-27T09:25:18.293443Z"
    },
    "papermill": {
     "duration": 0.02207,
     "end_time": "2023-10-27T09:25:18.296615",
     "exception": false,
     "start_time": "2023-10-27T09:25:18.274545",
     "status": "completed"
    },
    "tags": []
   },
   "outputs": [],
   "source": [
    "from sklearn.model_selection import train_test_split\n",
    "x_train, x_test, y_train, y_test = train_test_split(x,y,test_size = 0.3,random_state=1)"
   ]
  },
  {
   "cell_type": "code",
   "execution_count": 19,
   "id": "3cce058f",
   "metadata": {
    "execution": {
     "iopub.execute_input": "2023-10-27T09:25:18.323156Z",
     "iopub.status.busy": "2023-10-27T09:25:18.322702Z",
     "iopub.status.idle": "2023-10-27T09:25:18.337644Z",
     "shell.execute_reply": "2023-10-27T09:25:18.336145Z"
    },
    "papermill": {
     "duration": 0.030894,
     "end_time": "2023-10-27T09:25:18.340022",
     "exception": false,
     "start_time": "2023-10-27T09:25:18.309128",
     "status": "completed"
    },
    "tags": []
   },
   "outputs": [
    {
     "name": "stdout",
     "output_type": "stream",
     "text": [
      " accuracy of svm algo:  80.64516129032258\n"
     ]
    }
   ],
   "source": [
    "from sklearn.svm import SVC\n",
    " \n",
    "svm = SVC(random_state = 1)\n",
    "svm.fit(x_train,y_train)\n",
    "\n",
    "print(\" accuracy of svm algo: \",svm.score(x_test,y_test)*100)\n"
   ]
  },
  {
   "cell_type": "markdown",
   "id": "d8bf24c6",
   "metadata": {
    "papermill": {
     "duration": 0.012098,
     "end_time": "2023-10-27T09:25:18.364914",
     "exception": false,
     "start_time": "2023-10-27T09:25:18.352816",
     "status": "completed"
    },
    "tags": []
   },
   "source": [
    "### accuracy of svm algo:  80.65"
   ]
  },
  {
   "cell_type": "markdown",
   "id": "9bfc7f51",
   "metadata": {
    "papermill": {
     "duration": 0.011976,
     "end_time": "2023-10-27T09:25:18.389179",
     "exception": false,
     "start_time": "2023-10-27T09:25:18.377203",
     "status": "completed"
    },
    "tags": []
   },
   "source": [
    "# Decision Tree Classification\n",
    "<a id=\"8\"></a>"
   ]
  },
  {
   "cell_type": "code",
   "execution_count": 20,
   "id": "4fb1d1fa",
   "metadata": {
    "execution": {
     "iopub.execute_input": "2023-10-27T09:25:18.415533Z",
     "iopub.status.busy": "2023-10-27T09:25:18.415099Z",
     "iopub.status.idle": "2023-10-27T09:25:18.421922Z",
     "shell.execute_reply": "2023-10-27T09:25:18.420904Z"
    },
    "papermill": {
     "duration": 0.022421,
     "end_time": "2023-10-27T09:25:18.424074",
     "exception": false,
     "start_time": "2023-10-27T09:25:18.401653",
     "status": "completed"
    },
    "tags": []
   },
   "outputs": [],
   "source": [
    "# train test split\n",
    "from sklearn.model_selection import train_test_split\n",
    "x_train, x_test,y_train, y_test = train_test_split(x,y,test_size = 0.15,random_state = 42)"
   ]
  },
  {
   "cell_type": "code",
   "execution_count": 21,
   "id": "ea223d8d",
   "metadata": {
    "execution": {
     "iopub.execute_input": "2023-10-27T09:25:18.450706Z",
     "iopub.status.busy": "2023-10-27T09:25:18.450320Z",
     "iopub.status.idle": "2023-10-27T09:25:18.462358Z",
     "shell.execute_reply": "2023-10-27T09:25:18.461246Z"
    },
    "papermill": {
     "duration": 0.028085,
     "end_time": "2023-10-27T09:25:18.464536",
     "exception": false,
     "start_time": "2023-10-27T09:25:18.436451",
     "status": "completed"
    },
    "tags": []
   },
   "outputs": [
    {
     "name": "stdout",
     "output_type": "stream",
     "text": [
      " Decision Tree Classifier of Accuracy rate:  74.46808510638297\n"
     ]
    }
   ],
   "source": [
    "from sklearn.tree import DecisionTreeClassifier\n",
    "dt = DecisionTreeClassifier()\n",
    "dt.fit(x_train,y_train)\n",
    "\n",
    "print(\" Decision Tree Classifier of Accuracy rate: \", dt.score(x_test,y_test)*100)\n"
   ]
  }
 ],
 "metadata": {
  "kernelspec": {
   "display_name": "Python 3",
   "language": "python",
   "name": "python3"
  },
  "language_info": {
   "codemirror_mode": {
    "name": "ipython",
    "version": 3
   },
   "file_extension": ".py",
   "mimetype": "text/x-python",
   "name": "python",
   "nbconvert_exporter": "python",
   "pygments_lexer": "ipython3",
   "version": "3.10.12"
  },
  "papermill": {
   "default_parameters": {},
   "duration": 16.090075,
   "end_time": "2023-10-27T09:25:19.398923",
   "environment_variables": {},
   "exception": null,
   "input_path": "__notebook__.ipynb",
   "output_path": "__notebook__.ipynb",
   "parameters": {},
   "start_time": "2023-10-27T09:25:03.308848",
   "version": "2.4.0"
  }
 },
 "nbformat": 4,
 "nbformat_minor": 5
}
